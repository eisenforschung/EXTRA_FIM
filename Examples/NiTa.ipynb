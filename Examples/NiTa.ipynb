{
 "cells": [
  {
   "cell_type": "code",
   "execution_count": 1,
   "id": "7e5c1790-0f89-4ae5-a096-eaf65c1c5074",
   "metadata": {},
   "outputs": [
    {
     "name": "stderr",
     "output_type": "stream",
     "text": [
      "/cmmc/u/sbhatt/FIM_extra_new_module.py:310: NumbaDeprecationWarning: \u001b[1mThe 'nopython' keyword argument was not supplied to the 'numba.jit' decorator. The implicit default value for this argument is currently False, but it will be changed to True in Numba 0.59.0. See https://numba.readthedocs.io/en/stable/reference/deprecation.html#deprecation-of-object-mode-fall-back-behaviour-when-using-jit for details.\u001b[0m\n",
      "  def _fillin(res,psire,psiim,fft_idx):\n"
     ]
    }
   ],
   "source": [
    "import sys\n",
    "sys.path.append('/cmmc/u/sbhatt')\n",
    "import FIM_extra_new_module as new\n",
    "from pyiron_base import load"
   ]
  },
  {
   "cell_type": "code",
   "execution_count": 2,
   "id": "d635cb30-afe3-4482-b55d-f070851fdd3c",
   "metadata": {},
   "outputs": [],
   "source": [
    "Simulator = load()"
   ]
  },
  {
   "cell_type": "code",
   "execution_count": 3,
   "id": "babf243e-3ffc-4f1b-b606-d3de9c0e0c2e",
   "metadata": {},
   "outputs": [],
   "source": [
    "fim_simulation = new.FIM_simulations(inputDict=Simulator)"
   ]
  },
  {
   "cell_type": "code",
   "execution_count": null,
   "id": "6150dec9-da61-42ff-b305-fdb97e72d148",
   "metadata": {},
   "outputs": [],
   "source": [
    "fim_simulation.sum_single_k(Simulator[\"ik\"])"
   ]
  },
  {
   "cell_type": "code",
   "execution_count": null,
   "id": "22e32ad4-12a3-464f-aeb1-e1d7968d6c6b",
   "metadata": {},
   "outputs": [],
   "source": []
  }
 ],
 "metadata": {
  "kernelspec": {
   "display_name": "Python 3 (ipykernel)",
   "language": "python",
   "name": "python3"
  },
  "language_info": {
   "codemirror_mode": {
    "name": "ipython",
    "version": 3
   },
   "file_extension": ".py",
   "mimetype": "text/x-python",
   "name": "python",
   "nbconvert_exporter": "python",
   "pygments_lexer": "ipython3",
   "version": "3.10.8"
  }
 },
 "nbformat": 4,
 "nbformat_minor": 5
}
