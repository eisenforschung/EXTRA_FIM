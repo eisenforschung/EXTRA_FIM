{
 "cells": [
  {
   "cell_type": "markdown",
   "id": "7c2b34c0-6b0d-446b-a471-47b14a55f02d",
   "metadata": {},
   "source": [
    "# Load modules"
   ]
  },
  {
   "cell_type": "code",
   "execution_count": null,
   "id": "e66ca4c0-1459-4352-afb2-ee9c5b1eee62",
   "metadata": {},
   "outputs": [],
   "source": [
    "from pyiron_base import load\n",
    "import sys\n",
    "sys.path.insert(0,'/cmmc/u/cfrey/devel/python-test')\n",
    "import EXTRA_FIM.main as fim\n",
    "from EXTRA_FIM.sx_nc_waves_reader import sx_nc_waves_reader\n",
    "from EXTRA_FIM.potential import extend_potential, sx_el_potential3D_cell"
   ]
  },
  {
   "cell_type": "markdown",
   "id": "c70f935c-390b-4722-b00a-e53fb53a2718",
   "metadata": {},
   "source": [
    "# Get simulation parameters"
   ]
  },
  {
   "cell_type": "raw",
   "id": "7d91777c-daf7-4780-9711-1a204c04f6ff",
   "metadata": {},
   "source": [
    "# --- Explicit setup for testing\n",
    "Simulator = {'working_directory': '/u/cfrey/calcs/Si100/4x2_addim_B_L0/20Vnm/wv',\n",
    " 'z_max': 40,\n",
    " 'z_ext': 50,\n",
    " 'iz_ext_from': 137,\n",
    " 'izstart_min': 159,\n",
    " 'izend': 90,\n",
    " 'cutoff': 10,\n",
    " 'limit': 1e-10,\n",
    " 'E_fermi': 16.580343,\n",
    " 'E_max': 21.580343,\n",
    " 'ik': 0,\n",
    " 'ionization_energies': [15.42]}"
   ]
  },
  {
   "cell_type": "code",
   "execution_count": null,
   "id": "79abee3d-17c9-4fd8-9e4f-518a9c7bcd1d",
   "metadata": {
    "tags": []
   },
   "outputs": [],
   "source": [
    "# Get parameter dict from pyiron job\n",
    "Simulator = load()"
   ]
  },
  {
   "cell_type": "markdown",
   "id": "b75ad914-4b0a-42eb-a5eb-c6cb47b4f5f0",
   "metadata": {
    "tags": []
   },
   "source": [
    "# Extend the potential if requested"
   ]
  },
  {
   "cell_type": "code",
   "execution_count": null,
   "id": "07fb5600-ca57-4301-ae64-f0c2eb17bd1d",
   "metadata": {},
   "outputs": [],
   "source": [
    "elec_potential,_ = sx_el_potential3D_cell (Simulator['working_directory'])\n",
    "pot,_,_,cell = fim.potential (Simulator).potential_cell ()\n",
    "\n",
    "if 'z_ext' in Simulator:\n",
    "    iz0 = Simulator['iz_ext_from']\n",
    "    new_z_max=Simulator['z_ext']\n",
    "    fig, pot_ext = extend_potential(elec_potential / fim.HARTREE_TO_EV, \n",
    "                                    iz0, pot, cell, z_max=new_z_max,\n",
    "                                    izend=Simulator['izend'],dv_limit=1e-4,plotG=1)\n",
    "    # copy extension from pot to elec_potential\n",
    "    elec_ext = pot_ext[:,:,:,0] * fim.HARTREE_TO_EV\n",
    "    elec_ext[:,:,0:iz0] = elec_potential[:,:,:iz0]\n",
    "else:\n",
    "    pot_ext = pot\n",
    "    elec_ext = elec_potential"
   ]
  },
  {
   "cell_type": "markdown",
   "id": "5dce0c88-0b7e-4aeb-80c0-55122a342ae0",
   "metadata": {},
   "source": [
    "# Set up reader and FIM simulator"
   ]
  },
  {
   "cell_type": "code",
   "execution_count": null,
   "id": "2136b60f-e5bf-4e1b-9b8d-93238ffaf103",
   "metadata": {},
   "outputs": [],
   "source": [
    "# waves reader\n",
    "waves_reader = sx_nc_waves_reader(Simulator['working_directory'] + \"/waves.sxb\")\n",
    "\n",
    "# FIM simulator\n",
    "fimsim=fim.FIM_simulations(Simulator,reader=waves_reader,V_total=pot_ext,V_elstat=elec_ext)"
   ]
  },
  {
   "cell_type": "markdown",
   "id": "f32b54b9-5677-4ed3-904e-4363bf5cbb01",
   "metadata": {},
   "source": [
    "# Do the actual calculation for a single k-point"
   ]
  },
  {
   "cell_type": "code",
   "execution_count": null,
   "id": "d74df6ac-880d-42fe-977a-9d1a8152a8e8",
   "metadata": {},
   "outputs": [],
   "source": [
    "fimsim.sum_single_k (Simulator['ik'])"
   ]
  }
 ],
 "metadata": {
  "kernelspec": {
   "display_name": "Python 3 (ipykernel)",
   "language": "python",
   "name": "python3"
  },
  "language_info": {
   "codemirror_mode": {
    "name": "ipython",
    "version": 3
   },
   "file_extension": ".py",
   "mimetype": "text/x-python",
   "name": "python",
   "nbconvert_exporter": "python",
   "pygments_lexer": "ipython3",
   "version": "3.11.8"
  }
 },
 "nbformat": 4,
 "nbformat_minor": 5
}
