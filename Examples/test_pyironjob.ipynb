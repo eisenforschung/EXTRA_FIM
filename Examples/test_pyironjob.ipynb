{
 "cells": [
  {
   "cell_type": "code",
   "execution_count": 1,
   "metadata": {},
   "outputs": [
    {
     "name": "stderr",
     "output_type": "stream",
     "text": [
      "/Users/shyamkatnagallu/Projects/EXTRA_FIM/.venv/lib/python3.11/site-packages/tqdm/auto.py:21: TqdmWarning: IProgress not found. Please update jupyter and ipywidgets. See https://ipywidgets.readthedocs.io/en/stable/user_install.html\n",
      "  from .autonotebook import tqdm as notebook_tqdm\n"
     ]
    }
   ],
   "source": [
    "from pyiron import Project\n",
    "import EXTRA_FIM.pyiron_job"
   ]
  },
  {
   "cell_type": "code",
   "execution_count": 2,
   "metadata": {},
   "outputs": [],
   "source": [
    "pr = Project('PyironExtraFIMSimulator')"
   ]
  },
  {
   "cell_type": "code",
   "execution_count": 4,
   "metadata": {},
   "outputs": [],
   "source": [
    "job = pr.create.job.ExtraFimSimulatorRefJob('test')"
   ]
  },
  {
   "cell_type": "code",
   "execution_count": 5,
   "metadata": {},
   "outputs": [
    {
     "data": {
      "application/json": {
       "ionization_energies": "None",
       "kpoints": "None",
       "simulator_dict": "None",
       "structure": "None",
       "waves_directory": "None",
       "waves_reader": "None"
      },
      "text/html": [
       "<pre>DataContainer({\n",
       "  \"waves_directory\": \"None\",\n",
       "  \"waves_reader\": \"None\",\n",
       "  \"simulator_dict\": \"None\",\n",
       "  \"kpoints\": \"None\",\n",
       "  \"structure\": \"None\",\n",
       "  \"ionization_energies\": \"None\"\n",
       "})</pre>"
      ],
      "text/plain": [
       "DataContainer({'waves_directory': None, 'waves_reader': None, 'simulator_dict': None, 'kpoints': None, 'structure': None, 'ionization_energies': None})"
      ]
     },
     "execution_count": 5,
     "metadata": {},
     "output_type": "execute_result"
    }
   ],
   "source": [
    "job.input"
   ]
  },
  {
   "cell_type": "code",
   "execution_count": 8,
   "metadata": {},
   "outputs": [
    {
     "name": "stdout",
     "output_type": "stream",
     "text": [
      "yes\n"
     ]
    }
   ],
   "source": [
    "if 'z_ext' in sim:\n",
    "    print('yes')"
   ]
  },
  {
   "cell_type": "code",
   "execution_count": null,
   "metadata": {},
   "outputs": [],
   "source": []
  }
 ],
 "metadata": {
  "kernelspec": {
   "display_name": ".venv",
   "language": "python",
   "name": "python3"
  },
  "language_info": {
   "codemirror_mode": {
    "name": "ipython",
    "version": 3
   },
   "file_extension": ".py",
   "mimetype": "text/x-python",
   "name": "python",
   "nbconvert_exporter": "python",
   "pygments_lexer": "ipython3",
   "version": "3.11.8"
  }
 },
 "nbformat": 4,
 "nbformat_minor": 2
}
